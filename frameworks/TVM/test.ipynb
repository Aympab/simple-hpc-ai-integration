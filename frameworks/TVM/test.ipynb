{
 "cells": [
  {
   "cell_type": "code",
   "execution_count": 6,
   "metadata": {},
   "outputs": [
    {
     "name": "stdout",
     "output_type": "stream",
     "text": [
      "945\n"
     ]
    }
   ],
   "source": [
    "import tensorflow.compat.v1 as tf\n",
    "# tf.disable_v2_behavior()\n",
    "\n",
    "a = tf.add(1, 2, name=\"Add_these_numbers\")\n",
    "b = tf.multiply(a, 3)\n",
    "c = tf.add(4, 5, name=\"And_These_ones\")\n",
    "d = tf.multiply(c, 6, name=\"Multiply_these_numbers\")\n",
    "e = tf.multiply(4, 5, name=\"B_add\")\n",
    "f = tf.add(c, 6, name=\"F_add\")\n",
    "g = tf.add(b, d)\n",
    "h = tf.multiply(g, f)\n",
    "\n",
    "with tf.Session() as sess:\n",
    "    writer = tf.summary.FileWriter(\"output\", sess.graph)\n",
    "    print(sess.run(h))\n",
    "    writer.close()"
   ]
  },
  {
   "cell_type": "code",
   "execution_count": 5,
   "metadata": {},
   "outputs": [
    {
     "name": "stdout",
     "output_type": "stream",
     "text": [
      "^C\n",
      "Traceback (most recent call last):\n",
      "  File \"/net/jabba/home0/am611608/source/simple-hpc/venv/bin/tensorboard\", line 5, in <module>\n",
      "    from tensorboard.main import run_main\n",
      "  File \"/net/jabba/home0/am611608/source/simple-hpc/venv/lib64/python3.6/site-packages/tensorboard/main.py\", line 43, in <module>\n",
      "    from tensorboard import default\n",
      "  File \"/net/jabba/home0/am611608/source/simple-hpc/venv/lib64/python3.6/site-packages/tensorboard/default.py\", line 39, in <module>\n",
      "    from tensorboard.plugins.audio import audio_plugin\n",
      "  File \"/net/jabba/home0/am611608/source/simple-hpc/venv/lib64/python3.6/site-packages/tensorboard/plugins/audio/audio_plugin.py\", line 26, in <module>\n",
      "    from tensorboard import plugin_util\n",
      "  File \"/net/jabba/home0/am611608/source/simple-hpc/venv/lib64/python3.6/site-packages/tensorboard/plugin_util.py\", line 27, in <module>\n",
      "    import markdown\n",
      "  File \"/net/jabba/home0/am611608/source/simple-hpc/venv/lib64/python3.6/site-packages/markdown/__init__.py\", line 29, in <module>\n",
      "    from .core import Markdown, markdown, markdownFromFile  # noqa: E402\n",
      "  File \"/net/jabba/home0/am611608/source/simple-hpc/venv/lib64/python3.6/site-packages/markdown/core.py\", line 26, in <module>\n",
      "    from . import util\n",
      "  File \"/net/jabba/home0/am611608/source/simple-hpc/venv/lib64/python3.6/site-packages/markdown/util.py\", line 36, in <module>\n",
      "    import importlib_metadata as metadata\n",
      "  File \"/net/jabba/home0/am611608/source/simple-hpc/venv/lib64/python3.6/site-packages/importlib_metadata/__init__.py\", line 17, in <module>\n",
      "    from . import _adapters, _meta\n",
      "  File \"/net/jabba/home0/am611608/source/simple-hpc/venv/lib64/python3.6/site-packages/importlib_metadata/_meta.py\", line 1, in <module>\n",
      "    from ._compat import Protocol\n",
      "  File \"<frozen importlib._bootstrap>\", line 971, in _find_and_load\n",
      "  File \"<frozen importlib._bootstrap>\", line 955, in _find_and_load_unlocked\n",
      "  File \"<frozen importlib._bootstrap>\", line 665, in _load_unlocked\n",
      "  File \"<frozen importlib._bootstrap_external>\", line 674, in exec_module\n",
      "  File \"<frozen importlib._bootstrap_external>\", line 764, in get_code\n",
      "  File \"<frozen importlib._bootstrap_external>\", line 833, in get_data\n",
      "KeyboardInterrupt\n"
     ]
    }
   ],
   "source": [
    "!tensorboard --logdir=output"
   ]
  }
 ],
 "metadata": {
  "interpreter": {
   "hash": "90a5304d5ddb849f688847e42cd499e8e23d5bcdf9e01226f8a1998a3612e1a0"
  },
  "kernelspec": {
   "display_name": "Python 3.6.8 ('venv': venv)",
   "language": "python",
   "name": "python3"
  },
  "language_info": {
   "codemirror_mode": {
    "name": "ipython",
    "version": 3
   },
   "file_extension": ".py",
   "mimetype": "text/x-python",
   "name": "python",
   "nbconvert_exporter": "python",
   "pygments_lexer": "ipython3",
   "version": "3.6.8"
  },
  "orig_nbformat": 4
 },
 "nbformat": 4,
 "nbformat_minor": 2
}
