{
 "cells": [
  {
   "cell_type": "code",
   "execution_count": 1,
   "metadata": {},
   "outputs": [],
   "source": [
    "import tensorflow as tf\n",
    "# import "
   ]
  },
  {
   "cell_type": "code",
   "execution_count": 2,
   "metadata": {},
   "outputs": [],
   "source": [
    "# model = tf.saved_model.load('./cas_test/nn/mutation_toy_case_best')\n",
    "model = tf.keras.models.load_model('./sampo-model/cas_test/nn/mutation_toy_case_best', compile=False)"
   ]
  },
  {
   "cell_type": "code",
   "execution_count": 3,
   "metadata": {},
   "outputs": [],
   "source": [
    "def m2tex(model,modelName):\n",
    "    stringlist = []\n",
    "    model.summary(line_length=70, print_fn=lambda x: stringlist.append(x))\n",
    "    del stringlist[1:-4:2]\n",
    "    del stringlist[-1]\n",
    "    for ix in range(1,len(stringlist)-3):\n",
    "        tmp = stringlist[ix]\n",
    "        stringlist[ix] = tmp[0:31]+\"& \"+tmp[31:59]+\"& \"+tmp[59:]+\"\\\\\\\\ \\hline\"\n",
    "    stringlist[0] = \"Model: {} \\\\\\\\ \\hline\".format(modelName)\n",
    "    stringlist[1] = stringlist[1]+\" \\hline\"\n",
    "    stringlist[-4] += \" \\hline\"\n",
    "    stringlist[-3] += \" \\\\\\\\\"\n",
    "    stringlist[-2] += \" \\\\\\\\\"\n",
    "    stringlist[-1] += \" \\\\\\\\ \\hline\"\n",
    "    prefix = [\"\\\\begin{table}[]\", \"\\\\begin{tabular}{lll}\"]\n",
    "    suffix = [\"\\end{tabular}\", \"\\caption{{Model summary for {}.}}\".format(modelName), \"\\label{tab:model-summary}\" , \"\\end{table}\"]\n",
    "    stringlist = prefix + stringlist + suffix \n",
    "    out_str = \" \\n\".join(stringlist)\n",
    "    out_str = out_str.replace(\"_\", \"\\_\")\n",
    "    out_str = out_str.replace(\"#\", \"\\#\")\n",
    "    print(out_str)\n"
   ]
  },
  {
   "cell_type": "code",
   "execution_count": 9,
   "metadata": {},
   "outputs": [],
   "source": [
    "import pandas as pd\n",
    "table=pd.DataFrame(columns=[\"Name\",\"Type\",\"Shape\"])\n",
    "for layer in model.layers:\n",
    "    table = table.append({\"Name\":layer.name, \"Type\": layer.__class__.__name__,\"Shape\":layer.output_shape}, ignore_index=True)"
   ]
  },
  {
   "cell_type": "code",
   "execution_count": 11,
   "metadata": {},
   "outputs": [
    {
     "name": "stdout",
     "output_type": "stream",
     "text": [
      "\\begin{tabular}{llll}\n",
      "\\toprule\n",
      "{} &                   Name &                Type &           Shape \\\\\n",
      "\\midrule\n",
      "0  &                input\\_1 &          InputLayer &  [(None, 1, 2)] \\\\\n",
      "1  &                  dense &               Dense &   (None, 1, 20) \\\\\n",
      "2  &    batch\\_normalization &  BatchNormalization &   (None, 1, 20) \\\\\n",
      "3  &                dense\\_1 &               Dense &   (None, 1, 20) \\\\\n",
      "4  &  batch\\_normalization\\_1 &  BatchNormalization &   (None, 1, 20) \\\\\n",
      "5  &                dense\\_2 &               Dense &   (None, 1, 20) \\\\\n",
      "6  &  batch\\_normalization\\_2 &  BatchNormalization &   (None, 1, 20) \\\\\n",
      "7  &                dense\\_3 &               Dense &   (None, 1, 20) \\\\\n",
      "8  &  batch\\_normalization\\_3 &  BatchNormalization &   (None, 1, 20) \\\\\n",
      "9  &                dense\\_4 &               Dense &   (None, 1, 20) \\\\\n",
      "10 &  batch\\_normalization\\_4 &  BatchNormalization &   (None, 1, 20) \\\\\n",
      "11 &                dense\\_5 &               Dense &    (None, 1, 8) \\\\\n",
      "\\bottomrule\n",
      "\\end{tabular}\n",
      "\n"
     ]
    }
   ],
   "source": [
    "print(table.to_latex())"
   ]
  },
  {
   "cell_type": "code",
   "execution_count": 5,
   "metadata": {},
   "outputs": [
    {
     "name": "stdout",
     "output_type": "stream",
     "text": [
      "Model: \"model\"\n",
      "_________________________________________________________________\n",
      "Layer (type)                 Output Shape              Param #   \n",
      "=================================================================\n",
      "input_1 (InputLayer)         [(None, 1, 2)]            0         \n",
      "_________________________________________________________________\n",
      "dense (Dense)                (None, 1, 20)             60        \n",
      "_________________________________________________________________\n",
      "batch_normalization (BatchNo (None, 1, 20)             80        \n",
      "_________________________________________________________________\n",
      "dense_1 (Dense)              (None, 1, 20)             420       \n",
      "_________________________________________________________________\n",
      "batch_normalization_1 (Batch (None, 1, 20)             80        \n",
      "_________________________________________________________________\n",
      "dense_2 (Dense)              (None, 1, 20)             420       \n",
      "_________________________________________________________________\n",
      "batch_normalization_2 (Batch (None, 1, 20)             80        \n",
      "_________________________________________________________________\n",
      "dense_3 (Dense)              (None, 1, 20)             420       \n",
      "_________________________________________________________________\n",
      "batch_normalization_3 (Batch (None, 1, 20)             80        \n",
      "_________________________________________________________________\n",
      "dense_4 (Dense)              (None, 1, 20)             420       \n",
      "_________________________________________________________________\n",
      "batch_normalization_4 (Batch (None, 1, 20)             80        \n",
      "_________________________________________________________________\n",
      "dense_5 (Dense)              (None, 1, 8)              168       \n",
      "=================================================================\n",
      "Total params: 2,308\n",
      "Trainable params: 2,108\n",
      "Non-trainable params: 200\n",
      "_________________________________________________________________\n"
     ]
    }
   ],
   "source": [
    "model.summary()"
   ]
  },
  {
   "cell_type": "code",
   "execution_count": 1,
   "metadata": {},
   "outputs": [
    {
     "ename": "NameError",
     "evalue": "name 'f' is not defined",
     "output_type": "error",
     "traceback": [
      "\u001b[0;31m---------------------------------------------------------------------------\u001b[0m",
      "\u001b[0;31mNameError\u001b[0m                                 Traceback (most recent call last)",
      "\u001b[0;32m<ipython-input-1-44e6b2de31ce>\u001b[0m in \u001b[0;36m<module>\u001b[0;34m\u001b[0m\n\u001b[0;32m----> 1\u001b[0;31m \u001b[0mprint\u001b[0m\u001b[0;34m(\u001b[0m\u001b[0mf\u001b[0m\u001b[0;34m(\u001b[0m\u001b[0mx\u001b[0m\u001b[0;34m=\u001b[0m\u001b[0mtf\u001b[0m\u001b[0;34m.\u001b[0m\u001b[0mconstant\u001b[0m\u001b[0;34m(\u001b[0m\u001b[0;34m[\u001b[0m\u001b[0;34m[\u001b[0m\u001b[0;36m1.\u001b[0m\u001b[0;34m]\u001b[0m\u001b[0;34m]\u001b[0m\u001b[0;34m)\u001b[0m\u001b[0;34m)\u001b[0m\u001b[0;34m)\u001b[0m\u001b[0;34m\u001b[0m\u001b[0;34m\u001b[0m\u001b[0m\n\u001b[0m",
      "\u001b[0;31mNameError\u001b[0m: name 'f' is not defined"
     ]
    }
   ],
   "source": [
    "# x = torch.randn(1, 8)\n",
    "# out = toy(x)\n",
    "\n",
    "torch.onnx.export(\n",
    "    toy,\n",
    "    x,\n",
    "    \"toy-model.onnx\",\n",
    "    export_params=True,\n",
    "    opset_version=10,\n",
    ")"
   ]
  },
  {
   "cell_type": "code",
   "execution_count": null,
   "metadata": {},
   "outputs": [],
   "source": []
  }
 ],
 "metadata": {
  "interpreter": {
   "hash": "90a5304d5ddb849f688847e42cd499e8e23d5bcdf9e01226f8a1998a3612e1a0"
  },
  "kernelspec": {
   "display_name": "Python 3.6.8 ('venv': venv)",
   "language": "python",
   "name": "python3"
  },
  "language_info": {
   "codemirror_mode": {
    "name": "ipython",
    "version": 3
   },
   "file_extension": ".py",
   "mimetype": "text/x-python",
   "name": "python",
   "nbconvert_exporter": "python",
   "pygments_lexer": "ipython3",
   "version": "3.6.8"
  },
  "orig_nbformat": 4
 },
 "nbformat": 4,
 "nbformat_minor": 2
}
